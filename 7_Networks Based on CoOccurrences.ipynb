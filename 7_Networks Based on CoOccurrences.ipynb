{
 "cells": [
  {
   "cell_type": "code",
   "execution_count": 1,
   "metadata": {},
   "outputs": [],
   "source": [
    "import pandas as pd\n",
    "import networkx as nx\n",
    "import numpy as np\n",
    "import matplotlib.pyplot as plt"
   ]
  },
  {
   "cell_type": "markdown",
   "metadata": {},
   "source": [
    "#### Constructing Semantic and Product Networks\n",
    "\n",
    "The edges in cooccurrence\n",
    "networks are implicit: they are not given (and often not even obvious); you have\n",
    "to deduce, extract, and calculate them from other data, and this is a significant\n",
    "departure from the relatively intuitive way you build social networks.\n",
    "Cooccurrence networks are living proof that you can connect anything to\n",
    "anything and make sense of the connections."
   ]
  },
  {
   "cell_type": "markdown",
   "metadata": {},
   "source": [
    "##### Semantic Networks\n",
    "\n",
    "A semantic network is a network of nodes that represent terms—words, word\n",
    "stems, word groups, or concepts—connected based on the similarity or\n",
    "dissimilarity of their usage or meanings. Link terms that:\n",
    "* Are commonly used together in the same place in text: same sentence,\n",
    "paragraph, chapter, scene, act, list of keywords, list of interests in a social\n",
    "network, and so on (“semantic” ↔ “network”)\n",
    "* Describe the same property (“red” ↔ “blue”)\n",
    "* Occupy the same semantic niche (synonyms: “program” ↔ “application”;\n",
    "hypernyms: “pet” ↔ “cat”; antonyms: “erase” ↔ “restore”)"
   ]
  },
  {
   "cell_type": "markdown",
   "metadata": {},
   "source": [
    "If your network\n",
    "has negatively weighted edges by construction, be prepared to remove them\n",
    "before analyzing the network."
   ]
  },
  {
   "cell_type": "markdown",
   "metadata": {},
   "source": [
    "Knowledge specialists use semantic networks for graphical (and machinereadable)\n",
    "knowledge representation, and social and behavioral researchers and\n",
    "anthropologists use semantic networks for semantic domain analysis. Let’s have\n",
    "a look at two not-so-typical semantic networks: a network of keywords for\n",
    "fraud-related research papers and a network of characters from Othello."
   ]
  },
  {
   "cell_type": "markdown",
   "metadata": {},
   "source": [
    "##### Detect Food Fraud\n",
    "\n",
    "Suppose you do research in accounting—namely, in fraud\n",
    "—and want to know everything about fraud types. You understand that nobody\n",
    "knows fraud better than other fraud researchers and fraudsters themselves. The\n",
    "latter are typically off limits, but the former are well represented in numerous\n",
    "databases of academic research papers. You could collect all research papers that\n",
    "mention “fraud,” extract subject tags assigned to them by database editors, and\n",
    "create a semantic network of the tags, based on their co-occurrence. The subject\n",
    "tags (such as DNA and meat industry) are the nodes of the network. Two tag nodes\n",
    "are adjacent if the tags are frequently assigned together to the same paper. For\n",
    "example, the nodes food fraud and food safety are adjacent because many research\n",
    "papers focus on food fraud and food safety."
   ]
  },
  {
   "cell_type": "markdown",
   "metadata": {},
   "source": [
    "<img src=\"./images/food fraud.png\" alt=\"lib_compare\" />"
   ]
  },
  {
   "cell_type": "markdown",
   "metadata": {},
   "source": [
    "##### Expose a Protagonist\n",
    "The emerging field of digital humanities uses co-occurrence semantic networks\n",
    "to analyze texts: plays, scripts, and other forms of prose and poetry. The method\n",
    "allows us to identify the main and peripheral characters (see core-periphery\n",
    "analysis here); group characters and places (see Outline Modularity-Based\n",
    "Communities); and eventually break down the storyline into scenes suitable, say,\n",
    "for film or stage adaptation."
   ]
  },
  {
   "cell_type": "markdown",
   "metadata": {},
   "source": [
    "Let’s outline a semantic network construction from the text of Othello. After you\n",
    "read the next chapter and the case studies, you will be able to implement the\n",
    "algorithm in Python. This exercise is inspired by Measuring Tie Strength in\n",
    "Implicit Social Network [EG12].\n",
    "\n",
    "1. You need a list of all characters. Othello is a short text; you can compose\n",
    "the list by hand. Alternatively, find all references to Enter and Exit remarks;\n",
    "or collect references to all characters as they speak if there is a property in\n",
    "the text that identifies the characters. For example, a character may be\n",
    "marked with an HTML tag, as in <A NAME=speech1><b>RODERIGO</b></a>.[37]\n",
    "\n",
    "2. You need a definition of co-occurrence. Play scripts are perfect from this\n",
    "point of view: two characters co-occur if they occur in the same scene! In a\n",
    "general text, co-occurrence may be based on paragraphs, sections, chapters,\n",
    "pages, and so on.\n",
    "\n",
    "3. Now that you have characters (nodes) and their co-occurrences (edges), you\n",
    "can build a network. Remarkably, once constructed, this network is a social\n",
    "network, of which you heard so much in Chapter 6, Understanding Social\n",
    "Networks. The result is shown in the following figure.\n",
    "\n",
    "4. Finally, you need a measure of importance. How do you know, indeed, who\n",
    "is the protagonist of the story? Luckily, you have the whole box of network\n",
    "centralities (Choose the Right Centralities) that you can apply to each node.\n",
    "When you work with a social network, and the network in the figure is a\n",
    "social one, the best importance measures are betweenness and eigenvector\n",
    "centralities. The eigenvector centrality is proportional to the graph node\n",
    "sizes, and the betweenness centrality is reflected by the node color (the\n",
    "darker, the more central). Both centralities seem to be in good agreement:\n",
    "Iago is the protagonist. Not Othello."
   ]
  },
  {
   "cell_type": "markdown",
   "metadata": {},
   "source": [
    "#### Product Networks\n",
    "\n",
    "A product network is a network of retail items. Network nodes in a product\n",
    "network represent items purchased by individuals and co-occurring in their\n",
    "shopping baskets or carts. You can connect two product nodes if customers often\n",
    "or always buy the respective products together. We call such products\n",
    "complements. Left and right shoes (if sold separately), nuts and bolts, nails and\n",
    "hammers, and one-way airline tickets from Boston to Seattle and from Seattle to\n",
    "Boston are good examples of complements: when you buy one, you almost\n",
    "always buy the other as well.\n",
    "\n",
    "Product networks can (but do not have to) be weighted: you can define the\n",
    "weight of the edge as the frequency of co-purchasing. You can slice (Slice\n",
    "Weighted Networks) the network later to remove low-weighted edges, if you\n",
    "want."
   ]
  },
  {
   "cell_type": "markdown",
   "metadata": {},
   "source": [
    "Sometimes product networks allow negatively weighted edges. If one of the\n",
    "products in a pair is a reasonable replacement for the other—in some sense!—we\n",
    "call them substitutes. If you live in Alaska and buy a husky to pull your sled,\n",
    "then you probably won’t buy a reindeer for the same purpose, at least not at the\n",
    "same time. (You can still get a reindeer as a pet.) A husky and reindeer are\n",
    "substitutes; you can connect the respective nodes with a negatively weighted\n",
    "edge to represent their substitutive nature."
   ]
  },
  {
   "cell_type": "markdown",
   "metadata": {},
   "source": [
    "#### Explore Your Pantry"
   ]
  },
  {
   "cell_type": "markdown",
   "metadata": {},
   "source": [
    "To find a product network, look no further than your pantry.\n",
    "When you buy prepared food (say, a can of baked beans), you buy an elaborate\n",
    "concoction of ingredients: prepared beans, water, sugar, applewood smoked\n",
    "bacon, molasses, textured vegetable protein, and many others. You can think of\n",
    "the ingredients as separate products that happen to be packed together in the can.\n",
    "the ingredients as separate products that happen to be packed together in the can.\n",
    "They occur in the same place at the same time—therefore, they are excellent\n",
    "candidates for becoming product network nodes. By constructing a product\n",
    "network, you can learn which ingredient combinations are most common,\n",
    "whether and how the ingredients group, and which ingredients are central to our\n",
    "food."
   ]
  },
  {
   "cell_type": "markdown",
   "metadata": {},
   "source": [
    "You can collect data for a network of ingredients from the website of the United\n",
    "States Department of Agriculture (USDA[39]). There is no need to download all\n",
    "several hundred thousand product descriptions. For starters, we suggest crawling\n",
    "a couple of thousand pages—for example, 925 products with 356 distinct\n",
    "ingredients.\n",
    "\n",
    "For each node, we calculate its betweenness (color) and eigenvector (size)\n",
    "centralities. The most central nodes represent the core ingredients."
   ]
  },
  {
   "cell_type": "markdown",
   "metadata": {},
   "source": [
    "#### Design a Do-It-Yourself Store"
   ]
  },
  {
   "cell_type": "markdown",
   "metadata": {},
   "source": [
    "Networks of products are common in marketing analysis. Marketing specialists\n",
    "construct product networks to reveal tightly coupled groups of products\n",
    "frequently purchased together. Retailers may compactly stock the products in a\n",
    "group in stores for the ease of shopping. If someone buys a product from a\n",
    "group, they may be reminded to buy other products from the same group.\n",
    "Finally, a group of products may be a stepping stone in a long-term customer\n",
    "project (for example, someone purchasing masonry products may be building a\n",
    "garage and would later need carpentry tools and materials, followed by brushes\n",
    "and paints)."
   ]
  },
  {
   "cell_type": "code",
   "execution_count": null,
   "metadata": {},
   "outputs": [],
   "source": []
  },
  {
   "cell_type": "code",
   "execution_count": null,
   "metadata": {},
   "outputs": [],
   "source": []
  }
 ],
 "metadata": {
  "kernelspec": {
   "display_name": "Python 3.7.10 ('graph_env')",
   "language": "python",
   "name": "python3"
  },
  "language_info": {
   "codemirror_mode": {
    "name": "ipython",
    "version": 3
   },
   "file_extension": ".py",
   "mimetype": "text/x-python",
   "name": "python",
   "nbconvert_exporter": "python",
   "pygments_lexer": "ipython3",
   "version": "3.7.10"
  },
  "orig_nbformat": 4,
  "vscode": {
   "interpreter": {
    "hash": "3c8e4c60fd624a8a75c789083efacee9750f13d579e0a03c8fcc3a5a9a7fbc1d"
   }
  }
 },
 "nbformat": 4,
 "nbformat_minor": 2
}
