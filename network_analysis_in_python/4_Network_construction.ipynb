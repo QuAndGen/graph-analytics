{
 "cells": [
  {
   "cell_type": "markdown",
   "metadata": {},
   "source": [
    "#### Mastering Advanced Network Construction"
   ]
  },
  {
   "cell_type": "code",
   "execution_count": null,
   "metadata": {},
   "outputs": [],
   "source": [
    "\n",
    "<img src=\"./images/synthetick network.png\" alt=\"lib_compare\" />"
   ]
  },
  {
   "cell_type": "markdown",
   "metadata": {},
   "source": [
    "##### Adjacency Matrix\n",
    "\n",
    "An adjacency matrix A is a square N×N matrix, where N is the size of the graph to\n",
    "be defined. The row and column indexes indicate the source and target nodes,\n",
    "respectively. Depending on the network type, the acceptable range, properties,\n",
    "and interpretation of the matrix elements differ. If a network belongs to more\n",
    "than one type (say, weighted and directed), consider all relevant properties and\n",
    "interpretations (see table)."
   ]
  },
  {
   "cell_type": "markdown",
   "metadata": {},
   "source": [
    "<img src=\"./images/Adjency_matrix.png\" alt=\"lib_compare\" />"
   ]
  },
  {
   "cell_type": "markdown",
   "metadata": {},
   "source": [
    "<img src=\"./images/Adjency_matrix_tbl.png\" alt=\"lib_compare\" />"
   ]
  },
  {
   "cell_type": "code",
   "execution_count": 1,
   "metadata": {},
   "outputs": [],
   "source": [
    "import networkx as nx\n",
    "import numpy as np\n",
    "from itertools import chain # For flattening the list of edges"
   ]
  },
  {
   "cell_type": "code",
   "execution_count": 3,
   "metadata": {},
   "outputs": [],
   "source": [
    "A = np.array([[0,1,0,0,0],[0,0,1,0,0],[0,0,0,1,0],[0,0,0,0,1],[1,0,0,0,0]])"
   ]
  },
  {
   "cell_type": "code",
   "execution_count": 4,
   "metadata": {},
   "outputs": [
    {
     "name": "stdout",
     "output_type": "stream",
     "text": [
      "[(0, 1, {}), (1, 2, {}), (2, 3, {}), (3, 4, {}), (4, 0, {})]\n"
     ]
    }
   ],
   "source": [
    "G = nx.DiGraph()\n",
    "edges = chain.from_iterable([(i, j) for j, column in enumerate(row) \\\n",
    "                            if A[i][j]] for i, row in enumerate(A))\n",
    "G.add_edges_from(edges)\n",
    "print(G.edges(data=True))"
   ]
  },
  {
   "cell_type": "markdown",
   "metadata": {},
   "source": [
    "By default, NetworkX assumes that all edges have the weight of 1, and does not\n",
    "display weights as edge attributes. If the matrix represents signed or unsigned\n",
    "weights (rather than absence/presence), you can modify the code to incorporate\n",
    "the “weight” attribute:"
   ]
  },
  {
   "cell_type": "code",
   "execution_count": 5,
   "metadata": {},
   "outputs": [
    {
     "name": "stdout",
     "output_type": "stream",
     "text": [
      "[(0, 1, {'weight': 1}), (1, 2, {'weight': 1}), (2, 3, {'weight': 1}), (3, 4, {'weight': 1}), (4, 0, {'weight': 1})]\n"
     ]
    }
   ],
   "source": [
    "G = nx.DiGraph()\n",
    "edges = chain.from_iterable([(i, j,{'weight':A[i][j]}) for j, column in enumerate(row) \\\n",
    "                            if A[i][j]] for i, row in enumerate(A))\n",
    "G.add_edges_from(edges)\n",
    "print(G.edges(data=True))"
   ]
  },
  {
   "cell_type": "markdown",
   "metadata": {},
   "source": [
    "#### Create graph from Numpy"
   ]
  },
  {
   "cell_type": "code",
   "execution_count": 6,
   "metadata": {},
   "outputs": [
    {
     "name": "stdout",
     "output_type": "stream",
     "text": [
      "[(0, 1, {'weight': 1}), (1, 2, {'weight': 1}), (2, 3, {'weight': 1}), (3, 4, {'weight': 1}), (4, 0, {'weight': 1})]\n"
     ]
    }
   ],
   "source": [
    "import numpy as np\n",
    "# A_mtx = np.matrix(A)\n",
    "G = nx.from_numpy_matrix(A, create_using=nx.DiGraph())\n",
    "print(G.edges(data=True))"
   ]
  },
  {
   "cell_type": "markdown",
   "metadata": {},
   "source": [
    "You can program the reverse transformation with nx.to_numpy_matrix(G):"
   ]
  },
  {
   "cell_type": "code",
   "execution_count": 7,
   "metadata": {},
   "outputs": [
    {
     "name": "stdout",
     "output_type": "stream",
     "text": [
      "[[0. 1. 0. 0. 0.]\n",
      " [0. 0. 1. 0. 0.]\n",
      " [0. 0. 0. 1. 0.]\n",
      " [0. 0. 0. 0. 1.]\n",
      " [1. 0. 0. 0. 0.]]\n"
     ]
    }
   ],
   "source": [
    "B_mtx = nx.to_numpy_matrix(G) # Produces a NumPy 2D matrix\n",
    "print(B_mtx)"
   ]
  },
  {
   "cell_type": "markdown",
   "metadata": {},
   "source": [
    "#### To Pandas\n",
    "\n",
    "Save graph data into pandas data frame"
   ]
  },
  {
   "cell_type": "code",
   "execution_count": 13,
   "metadata": {},
   "outputs": [
    {
     "name": "stdout",
     "output_type": "stream",
     "text": [
      "         source        target  weight\n",
      "0          Born       Married       1\n",
      "1       Married   Elected Rep       1\n",
      "2   Elected Rep  Elected Pres       1\n",
      "3  Elected Pres          Died       1\n",
      "4          Died          Born       1\n"
     ]
    }
   ],
   "source": [
    "labels = \"Born\", \"Married\", \"Elected Rep\", \"Elected Pres\", \"Died\"\n",
    "nx.relabel_nodes(G, dict(enumerate(labels)), copy=False)\n",
    "df = nx.to_pandas_edgelist(G)\n",
    "print(df)"
   ]
  },
  {
   "cell_type": "code",
   "execution_count": 14,
   "metadata": {},
   "outputs": [
    {
     "name": "stdout",
     "output_type": "stream",
     "text": [
      "           from            to  weight\n",
      "0          Died          Born     0.1\n",
      "1   Elected Rep  Elected Pres     1.0\n",
      "2       Married   Elected Rep     1.0\n",
      "3          Born       Married     1.0\n",
      "4  Elected Pres          Died     1.0\n"
     ]
    }
   ],
   "source": [
    "import pandas as pd\n",
    "df = pd.DataFrame({\n",
    "\"from\": {0: \"Died\", 1: \"Elected Rep\", 2: \"Married\", 3: \"Born\",\n",
    "4: \"Elected Pres\"},\n",
    "\"to\": {0: \"Born\", 1: \"Elected Pres\", 2: \"Elected Rep\", 3: \"Married\",\n",
    "4: \"Died\"},\n",
    "\"weight\": {0: 0.1, 1: 1.0, 2: 1.0, 3: 1.0, 4: 1.0},\n",
    "})\n",
    "print(df)"
   ]
  },
  {
   "cell_type": "code",
   "execution_count": 18,
   "metadata": {},
   "outputs": [
    {
     "name": "stdout",
     "output_type": "stream",
     "text": [
      "[('Died', 'Born', {'weight': 0.1}), ('Died', 'Elected Pres', {'weight': 1.0}), ('Born', 'Married', {'weight': 1.0}), ('Elected Rep', 'Elected Pres', {'weight': 1.0}), ('Elected Rep', 'Married', {'weight': 1.0})]\n"
     ]
    },
    {
     "data": {
      "image/png": "[encoded data removed]",
      "text/plain": [
       "<Figure size 432x288 with 1 Axes>"
      ]
     },
     "metadata": {},
     "output_type": "display_data"
    }
   ],
   "source": [
    "G = nx.from_pandas_edgelist(df, \"from\", \"to\", edge_attr=[\"weight\"])\n",
    "# print(G.edges(data=True))\n",
    "nx.draw(G)"
   ]
  },
  {
   "cell_type": "markdown",
   "metadata": {},
   "source": [
    "#### Handling Node Attributes, the Pandas Way"
   ]
  },
  {
   "cell_type": "code",
   "execution_count": 20,
   "metadata": {},
   "outputs": [
    {
     "name": "stdout",
     "output_type": "stream",
     "text": [
      "[('Died', {'date': 1865}), ('Born', {'date': 1809}), ('Elected Rep', {'date': 1847}), ('Elected Pres', {'date': 1861}), ('Married', {'date': 1842})]\n"
     ]
    }
   ],
   "source": [
    "events = {\"Died\": 1865, \"Born\": 1809, \"Elected Rep\": 1847,\n",
    "\"Elected Pres\": 1861, \"Married\": 1842}\n",
    "nx.set_node_attributes(G=G, values=events,name=\"date\") #  G, values, name=None\n",
    "node_data = G.nodes(data=True)\n",
    "print(node_data)"
   ]
  },
  {
   "cell_type": "markdown",
   "metadata": {},
   "source": [
    "The values of node attributes, especially those calculated by the analysis\n",
    "program, may become inputs to further data analysis steps"
   ]
  },
  {
   "cell_type": "code",
   "execution_count": 21,
   "metadata": {},
   "outputs": [
    {
     "name": "stdout",
     "output_type": "stream",
     "text": [
      "0\n",
      "Died            {'date': 1865}\n",
      "Born            {'date': 1809}\n",
      "Elected Rep     {'date': 1847}\n",
      "Elected Pres    {'date': 1861}\n",
      "Married         {'date': 1842}\n",
      "Name: 1, dtype: object\n"
     ]
    }
   ],
   "source": [
    "lincoln_ser = pd.DataFrame(node_data).set_index(0)[1]\n",
    "print(lincoln_ser)"
   ]
  },
  {
   "cell_type": "markdown",
   "metadata": {},
   "source": [
    "After converting the node labels to the row index, the resulting DataFrame has\n",
    "only one column named 1 (which, naturally, is a Series). The values in the\n",
    "column are node attribute dictionaries, and one of the Series constructors builds a\n",
    "Series from a dictionary. Let’s apply the constructor to each row."
   ]
  },
  {
   "cell_type": "code",
   "execution_count": 22,
   "metadata": {},
   "outputs": [
    {
     "name": "stdout",
     "output_type": "stream",
     "text": [
      "              date\n",
      "0                 \n",
      "Died          1865\n",
      "Born          1809\n",
      "Elected Rep   1847\n",
      "Elected Pres  1861\n",
      "Married       1842\n"
     ]
    }
   ],
   "source": [
    "df = lincoln_ser.apply(pd.Series)\n",
    "print(df)"
   ]
  },
  {
   "cell_type": "markdown",
   "metadata": {},
   "source": [
    "### Incidence Matrix\n",
    "\n",
    "An incidence matrix J is a rectangular N×M matrix, where N is the number of\n",
    "nodes and M is the number of edges. A 1 at J[i,j] means that the node i is incident\n",
    "to the edge j. All other elements of J are 0s. If the represented graph is directed,\n",
    "the start node is designated with 1 and the end node with -1.\n",
    "\n",
    "Unlike an adjacency matrix, an incidence matrix easily allows parallel edges.\n",
    "However, it has its weak points: weighted networks cannot be represented, and\n",
    "an incidence matrix of a typical complex network has a larger memory footprint\n",
    "than the adjacency matrix of the same network.\n",
    "\n",
    "Function nx.incidence_matrix(G) returns the incidence matrix of G as a so-called\n",
    "sparse matrix. (Pass the optional parameter oriented=True to distinguish start and\n",
    "end nodes.) You can convert a sparse matrix to a dense one with G.todense:\n",
    "\n",
    "Here’s how we read the results: edge number 0 starts at node 1 (because\n",
    "J[1,0]==1) and ends at node 0 (because J[0,0]==-1); edge number 1 starts at node 2\n",
    "(because J[2,1]==1) and ends at node 1 (because J[1,1]==-1), and so on."
   ]
  },
  {
   "cell_type": "code",
   "execution_count": 23,
   "metadata": {},
   "outputs": [
    {
     "name": "stdout",
     "output_type": "stream",
     "text": [
      "[[-1. -1.  0.  0.  0.]\n",
      " [ 1.  0. -1.  0.  0.]\n",
      " [ 0.  0.  0. -1. -1.]\n",
      " [ 0.  1.  0.  1.  0.]\n",
      " [ 0.  0.  1.  0.  1.]]\n"
     ]
    }
   ],
   "source": [
    "J = nx.incidence_matrix(G, oriented=True).todense()\n",
    "print(J)"
   ]
  },
  {
   "cell_type": "markdown",
   "metadata": {},
   "source": [
    "#### Work with Edge Lists and Node Dictionaries\n",
    "\n",
    "You do not have to mess with matrices, NumPy, and Pandas to bulk move data\n",
    "between your code and NetworkX networks. You can use edge lists and node\n",
    "dictionaries."
   ]
  },
  {
   "cell_type": "markdown",
   "metadata": {},
   "source": [
    "#### Edge Lists\n",
    "An edge list is a list of 3-tuples containing the start node, end node, and a\n",
    "dictionary of edge attributes for each edge"
   ]
  },
  {
   "cell_type": "code",
   "execution_count": 16,
   "metadata": {},
   "outputs": [],
   "source": [
    "def get_graph():\n",
    "    import pandas as pd\n",
    "    import networkx as nx\n",
    "    df = pd.DataFrame({\n",
    "    \"from\": {0: \"Died\", 1: \"Elected Rep\", 2: \"Married\", 3: \"Born\",\n",
    "    4: \"Elected Pres\"},\n",
    "    \"to\": {0: \"Born\", 1: \"Elected Pres\", 2: \"Elected Rep\", 3: \"Married\",\n",
    "    4: \"Died\"},\n",
    "    \"weight\": {0: 0.1, 1: 1.0, 2: 1.0, 3: 1.0, 4: 1.0},\n",
    "    })\n",
    "\n",
    "    G = nx.from_pandas_edgelist(df, \"from\", \"to\", edge_attr=[\"weight\"])\n",
    "    # print(G.edges(data=True))\n",
    "    # nx.draw(G)\n",
    "    return(G)"
   ]
  },
  {
   "cell_type": "code",
   "execution_count": 22,
   "metadata": {},
   "outputs": [
    {
     "name": "stdout",
     "output_type": "stream",
     "text": [
      "[]\n",
      "[('Died', 'Born', {'weight': 0.1}), ('Died', 'Elected Pres', {'weight': 1.0}), ('Born', 'Married', {'weight': 1.0}), ('Elected Rep', 'Elected Pres', {'weight': 1.0}), ('Elected Rep', 'Married', {'weight': 1.0})]\n"
     ]
    }
   ],
   "source": [
    "G = get_graph()\n",
    "edges = nx.to_edgelist(G)\n",
    "F = nx.from_edgelist(edges, create_using=G)\n",
    "print(F.edges(data=True))\n",
    "G = get_graph()\n",
    "print(G.edges(data=True))"
   ]
  },
  {
   "cell_type": "markdown",
   "metadata": {},
   "source": [
    "The pair of the edge list-related functions is reversible: a graph A, created from\n",
    "an edge list extracted from another graph B, is equal to B. Equality of graphs in\n",
    "mathematical graph theory is called isomorphism. Two graphs are isomorphic if\n",
    "you align all of the nodes of one graph with all of the nodes of the other graph,\n",
    "and all of their edges will align, too."
   ]
  },
  {
   "cell_type": "code",
   "execution_count": 23,
   "metadata": {},
   "outputs": [
    {
     "name": "stdout",
     "output_type": "stream",
     "text": [
      "False\n"
     ]
    }
   ],
   "source": [
    "print(nx.is_isomorphic(F, G))"
   ]
  },
  {
   "cell_type": "markdown",
   "metadata": {},
   "source": [
    "#### Dictionary of Lists\n",
    "\n",
    "A dictionary of lists of nodes is what it says it is. All nodes in a graph are the\n",
    "keys, and lists of adjacent nodes are values. You can get a dictionary of lists with\n",
    "nx.to_dict_of_lists:"
   ]
  },
  {
   "cell_type": "code",
   "execution_count": 20,
   "metadata": {},
   "outputs": [
    {
     "name": "stdout",
     "output_type": "stream",
     "text": [
      "{'Died': ['Born', 'Elected Pres'], 'Born': ['Died', 'Married'], 'Elected Rep': ['Elected Pres', 'Married'], 'Elected Pres': ['Elected Rep', 'Died'], 'Married': ['Elected Rep', 'Born']}\n"
     ]
    }
   ],
   "source": [
    "G = get_graph()\n",
    "dict_list = nx.to_dict_of_lists(G)\n",
    "print(dict_list)"
   ]
  },
  {
   "cell_type": "markdown",
   "metadata": {},
   "source": [
    "nx.to_dict_of_lists does not externalize edge attributes, including width, and this\n",
    "makes the resulting dictionary unsuitable for recreating the original graph with\n",
    "nx.from_dict_of_lists. It is true that the new graph is isomorphic to the source, but\n",
    "the function nx.is_isomorphic looks only at the topology of the graphs and does not\n",
    "compare the attributes."
   ]
  },
  {
   "cell_type": "code",
   "execution_count": 24,
   "metadata": {},
   "outputs": [
    {
     "data": {
      "text/plain": [
       "True"
      ]
     },
     "execution_count": 24,
     "metadata": {},
     "output_type": "execute_result"
    }
   ],
   "source": [
    "F = nx.from_dict_of_lists(dict_list, create_using=G)\n",
    "nx.is_isomorphic(F, G)"
   ]
  },
  {
   "cell_type": "markdown",
   "metadata": {},
   "source": [
    "#### Generate Synthetic Networks\n",
    "\n",
    "The first four functions need to know the total number of nodes. There is only\n",
    "one way to generate the edges for these types of graphs. For a balanced tree, you\n",
    "must provide the branching factor r (the number of children of a non-leaf node)\n",
    "and the height h (the height does not include the root node of the tree). A\n",
    "balanced tree has r^(h+1)  -1 nodes. In our example, G2 is a five-level binary tree with\n",
    "25+1-1=63 nodes. To build a two-dimensional grid (mesh) like G3, specify the\n",
    "number of rows n and columns m, and get a graph with m×n nodes."
   ]
  },
  {
   "cell_type": "code",
   "execution_count": null,
   "metadata": {},
   "outputs": [],
   "source": [
    "G0 = nx. path_graph(20)\n",
    "G1 = nx. cycle_graph(20)\n",
    "G4 = nx. star_graph(20)\n",
    "G5 = nx.complete_graph(20)\n",
    "G2 = nx. balanced_tree(2, 5)\n",
    "G3 = nx. grid_2d_graph(5, 4)\n",
    "names = (\"Linear (Path)\", \"Ring (Cycle)\", \"Balanced Tree\", \"Mesh (Grid)\",\n",
    "\"Star\", \"Complete\")"
   ]
  },
  {
   "cell_type": "markdown",
   "metadata": {},
   "source": [
    "All four functions need to know the total graph size. The remaining parameters\n",
    "characterize the random nature of the interconnecting edges:\n",
    "* For Erdös--Rényi: the probability of edge creation. Incidentally, it equals\n",
    "the graph density (Start with Global Measures).\n",
    "* For Watts--Strogatz: the initial number of neighbors and the probability of\n",
    "edge rewiring\n",
    "* For Barabási--Albert: the number of edges to attach from a new node\n",
    "* For Holme--Kim: the same as above, plus the probability of adding a\n",
    "triangle for each added edge"
   ]
  },
  {
   "cell_type": "code",
   "execution_count": null,
   "metadata": {},
   "outputs": [],
   "source": [
    "# Generate and draw random networks\n",
    "G0 = nx. erdos_renyi_graph(50, 0.05)\n",
    "G1 = nx.connected_watts_strogatz_graph(50, 4, 0.5 )\n",
    "G2 = nx. barabasi_albert_graph(50, 4 )\n",
    "G3 = nx. powerlaw_cluster_graph(50, 4, 0.5 )\n",
    "names = (\"Erdös-Rényi (p=0.05)\", \"Watts-Strogatz (k=4, p=0.5)\",\n",
    "\"Barabási-Albert (k=4)\", \"Holme-Kim (k=4, p=0.5)\")"
   ]
  },
  {
   "cell_type": "markdown",
   "metadata": {},
   "source": [
    "The remaining three generators produce “famous” social networks that were\n",
    "initially constructed by field sociologists based on experimental data, but\n",
    "eventually became “gold standards” of social network research."
   ]
  },
  {
   "cell_type": "code",
   "execution_count": null,
   "metadata": {},
   "outputs": [],
   "source": [
    "# Generate and draw famous social networks\n",
    "G0 = nx.karate_club_graph()\n",
    "G1 = nx.davis_southern_women_graph()\n",
    "G2 = nx.florentine_families_graph()\n",
    "names = (\"Zachary's Karate Club\", \"Davis Southern women\",\n",
    "\"Florentine families\")"
   ]
  },
  {
   "cell_type": "markdown",
   "metadata": {},
   "source": [
    "#### Slice Weighted Networks\n",
    "\n",
    "Lucky network analysts work with unweighted networks. In an unweighted\n",
    "network, all edges are equal. You consider either all of them, and get what you\n",
    "get—or none of them, and get a network with no edges.\n",
    "Unlucky network analysts work with weighted (and possibly signed) networks.\n",
    "In a weighted network, some edges are strong, and some are weak. If you keep\n",
    "all edges, you will have a distorted view of the network because there are\n",
    "algorithms that do not discriminate edges by weight. For them, an edge with a\n",
    "weight of 1.00 (to your best life-long friend) has the same importance as another\n",
    "edge with a weight of 0.01 (to the guy who takes the same 7:00 a.m. bus, always\n",
    "sits in the back, and reads Alaska Dispatch News)."
   ]
  },
  {
   "cell_type": "markdown",
   "metadata": {},
   "source": [
    "Most network analysts are unlucky and have to slice their networks.\n",
    "Slicing is the process of eliminating low-strength edges (weak ties). In the\n",
    "simplest form, you choose a cut-off threshold T that controls the density of the\n",
    "resulting network. Each edge’s weight is compared to the threshold. If the\n",
    "weight is at or above the threshold, the edge remains in the network; otherwise,\n",
    "it is erased."
   ]
  },
  {
   "cell_type": "markdown",
   "metadata": {},
   "source": [
    "NetworkX does not provide a standard slicing routine, but you can quickly\n",
    "implement yours (will do later). However, first, you should decide on the value\n",
    "of T. If the cut-off is too high, the network falls apart into tiny disjoint fragments;\n",
    "if it is too low, the network becomes a hairball with no analyzable structure. The\n",
    "trial-and-error approach may be the best:\n",
    "\n",
    "1. Select a T based, say, on the edge weight distribution.\n",
    "2. Slice the network.\n",
    "3. Get some measurements (the number of fragments, density, and so on).\n",
    "4. If the results do not suit you, go back to square one."
   ]
  },
  {
   "cell_type": "markdown",
   "metadata": {},
   "source": [
    "\n",
    "<img src=\"./images/slice_weight_network.png\" alt=\"lib_compare\" />"
   ]
  },
  {
   "cell_type": "code",
   "execution_count": 29,
   "metadata": {},
   "outputs": [
    {
     "name": "stdout",
     "output_type": "stream",
     "text": [
      "[('Died', 'Elected Pres'), ('Born', 'Married'), ('Elected Rep', 'Elected Pres'), ('Elected Rep', 'Married')]\n"
     ]
    }
   ],
   "source": [
    "def slice_network(G, T, copy=True):\n",
    "    \"\"\"\n",
    "    Remove all edges with weight<T from G or its copy.\n",
    "    \"\"\"\n",
    "    F = G.copy() if copy else G\n",
    "    F.remove_edges_from([(n1, n2) for n1, n2, w in F.edges(data=\"weight\") if w < T])\n",
    "    return F\n",
    "\n",
    "G= get_graph()\n",
    "F = slice_network(G, 0.9)\n",
    "print(F.edges())"
   ]
  },
  {
   "cell_type": "code",
   "execution_count": null,
   "metadata": {},
   "outputs": [],
   "source": []
  }
 ],
 "metadata": {
  "kernelspec": {
   "display_name": "Python 3.7.10 ('graph_env')",
   "language": "python",
   "name": "python3"
  },
  "language_info": {
   "codemirror_mode": {
    "name": "ipython",
    "version": 3
   },
   "file_extension": ".py",
   "mimetype": "text/x-python",
   "name": "python",
   "nbconvert_exporter": "python",
   "pygments_lexer": "ipython3",
   "version": "3.7.10"
  },
  "orig_nbformat": 4,
  "vscode": {
   "interpreter": {
    "hash": "3c8e4c60fd624a8a75c789083efacee9750f13d579e0a03c8fcc3a5a9a7fbc1d"
   }
  }
 },
 "nbformat": 4,
 "nbformat_minor": 2
}
