{
 "cells": [
  {
   "cell_type": "markdown",
   "metadata": {},
   "source": [
    "Social networks—the networks of individuals, groups, or\n",
    "organizations—are historically the longest-studied complex\n",
    "networks. They are based on explicit relationships between the\n",
    "nodes, such as friendship, kinship, membership, and interaction."
   ]
  },
  {
   "cell_type": "markdown",
   "metadata": {},
   "source": [
    "## Understanding Social Networks"
   ]
  },
  {
   "cell_type": "markdown",
   "metadata": {},
   "source": [
    "Understand Egocentric and Sociocentric Networks\n",
    "\n",
    "Personal social networks are complex networks of persons or social animals.\n",
    "\n",
    "Nodes represent people, and edges represent significant social relationships between\n",
    "people: kinship (remember the family treehere?), friendship, acquaintanceship,\n",
    "subordination, and the like. Some of the relationships are typically directed\n",
    "(subordination, some subtypes of kinship), and others are undirected (friendship,\n",
    "acquaintanceship), giving rise to the namesake graphs. They may have different\n",
    "weight (Distinguish Strong and Weak Ties), leading to weighted graphs. One can\n",
    "include any or all of these relationships in one network, ending up with\n",
    "multigraphs and other pseudographs. A social network is truly a complex one!"
   ]
  },
  {
   "cell_type": "markdown",
   "metadata": {},
   "source": [
    "### 1- Egocentric Networks\n",
    "\n",
    "An egocentric network (or ego network, for short) is the social network of a\n",
    "particular individual. An ego network includes all the individual’s contacts and\n",
    "all the relationships among them.\n",
    "\n",
    "includes all the individual’s contacts and\n",
    "all the relationships among them. Constructing a Network of Wikipedia Pages, an ego network includes the nodes from level 1, and the network of subjects related to complex networks is\n",
    "the ego network of the subject “complex networks.”"
   ]
  },
  {
   "cell_type": "markdown",
   "metadata": {},
   "source": [
    "Egocentric networks are used to understand the structure, function, and\n",
    "composition of connections around a single person. Unlike sociocentric\n",
    "networks, they are bounded and focus on individuals (rather than groups).\n",
    "\n",
    "The central node of an ego network is referred to as ego (as in egoism and alter\n",
    "ego); all the other nodes are called alter (as in alternative and alter ego, again)."
   ]
  },
  {
   "cell_type": "markdown",
   "metadata": {},
   "source": [
    "As an example of a real ego network, let’s have a look at my Facebook ego\n",
    "network constructed in 2013. The graph, anonymized for privacy reasons, is\n",
    "shown in the figure.\n",
    "\n",
    "\n",
    "* Each node represents one of my friends, relatives, colleagues or\n",
    "acquaintances.\n",
    "\n",
    "* Each edge represents what Facebook calls a “friendship,” but in reality can\n",
    "stand for anything from “she is my sweetheart” to “what’s-his-name.”\n",
    "\n",
    "* The network does not have “my” node because each shown node is\n",
    "implicitly connected to me.\n",
    "\n",
    "* Some nodes look completely isolated. They are not: each node is connected\n",
    "to me, and there may be other contacts to the nodes that are not my direct\n",
    "contacts.\n",
    "\n",
    "* Pink and blue nodes represent female and male contacts.\n",
    "\n",
    "* Some nodes congregate and form dense subgraphs. Some of these\n",
    "subgraphs are all-male, some are almost all-female, and some have mixed\n",
    "gender population. The subgraphs represent different aspects of my social\n",
    "life: family, close friend circle, current and past jobs, and hobbies. An ego\n",
    "network is like a spectroscope that separates your alters into a social\n",
    "spectrum.\n",
    "\n",
    "* Node size represents betweenness centrality (a measure of node\n",
    "importance; see Betweenness Centrality)."
   ]
  },
  {
   "cell_type": "markdown",
   "metadata": {},
   "source": [
    "<img src=\"./images/ego_network.png\" alt=\"lib_compare\" />"
   ]
  },
  {
   "cell_type": "markdown",
   "metadata": {},
   "source": [
    "Most of these facts are true about most of the human ego networks, but beware:\n",
    "an ego network is only a subgraph of a bigger social network. Anything you\n",
    "measure in an ego network—diameter, centralities, clustering coefficients\n",
    "is an approximation of the same measure for\n",
    "the same node in the bigger graph."
   ]
  },
  {
   "cell_type": "markdown",
   "metadata": {},
   "source": [
    "### 2 - Sociocentric Networks"
   ]
  },
  {
   "cell_type": "markdown",
   "metadata": {},
   "source": [
    "A sociocentric network, or just a social network, is any social network that is not\n",
    "egocentric. Ideally, a sociocentric network is a combination of the ego networks\n",
    "of all egos and includes all relevant (whatever it means to you as a researcher)\n",
    "alters. For example, a social network of all active Facebook users includes all\n",
    "≈2.01 billion nodes representing active Facebook members (in 2017) and ≈0.25\n",
    "trillion edges representing their friendships.[24] A complete social network of all\n",
    "living human beings has ≈7.44 billion nodes; the number of edges must be no\n",
    "more than 0.66 trillion if we believe in Dunbar’s number [Dun98]—150, the\n",
    "number of individuals with whom a person can maintain stable relationships."
   ]
  },
  {
   "cell_type": "markdown",
   "metadata": {},
   "source": [
    "<img src=\"./images/network_properties.png\" alt=\"lib_compare\" />\n"
   ]
  },
  {
   "cell_type": "markdown",
   "metadata": {},
   "source": [
    "### Signed Networks"
   ]
  },
  {
   "cell_type": "markdown",
   "metadata": {},
   "source": [
    "Some social (and not only social) networks belong to a class of signed (as\n",
    "opposed to unsigned) networks. There is not much special about them—except\n",
    "that they are weighted, and the weights can take negative values. This feature\n",
    "allows using the same type of ties to represent both positive and negative aspects\n",
    "of relationships. For example, a negatively weighed friendship tie between Alice\n",
    "and Chuck may signify that the folks are foes rather than friends.\n",
    "\n",
    "Signed networks are dangerous because their visual inspection does not reveal\n",
    "the true meaning of signed ties."
   ]
  },
  {
   "cell_type": "markdown",
   "metadata": {},
   "source": [
    "### Appreciate Synthetic Networks\n",
    "Synthetic networks are a cheap alternative to real-world, empiric networks.\n",
    "Unlike empiric networks that have to be scrupulously collected, either\n",
    "automatically or by hand, synthetic networks are generated by computer\n",
    "software (in our case, NetworkX). With proper adjustment through the right\n",
    "choice of the parameters of synthetic graph generators, you can produce\n",
    "networks of almost any type, resembling empiric networks to the point of\n",
    "confusion.\n",
    "\n",
    "The following figure shows six generated “classic” networks."
   ]
  },
  {
   "cell_type": "markdown",
   "metadata": {},
   "source": [
    "\n",
    "<img src=\"./images/synthetick network.png\" alt=\"lib_compare\" />"
   ]
  },
  {
   "cell_type": "code",
   "execution_count": null,
   "metadata": {},
   "outputs": [],
   "source": []
  }
 ],
 "metadata": {
  "kernelspec": {
   "display_name": "Python 3.8.6 64-bit",
   "language": "python",
   "name": "python3"
  },
  "language_info": {
   "codemirror_mode": {
    "name": "ipython",
    "version": 3
   },
   "file_extension": ".py",
   "mimetype": "text/x-python",
   "name": "python",
   "nbconvert_exporter": "python",
   "pygments_lexer": "ipython3",
   "version": "3.8.6"
  },
  "orig_nbformat": 4,
  "vscode": {
   "interpreter": {
    "hash": "202ca00df72f4703ecc99f77071dd0cdb4b0f26ce965741bf0b8f4c80cbec25e"
   }
  }
 },
 "nbformat": 4,
 "nbformat_minor": 2
}
