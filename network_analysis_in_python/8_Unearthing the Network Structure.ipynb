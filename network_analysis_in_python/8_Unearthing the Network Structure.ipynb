{
 "cells": [
  {
   "cell_type": "code",
   "execution_count": 1,
   "metadata": {},
   "outputs": [],
   "source": [
    "import pandas as pd\n",
    "import networkx as nx"
   ]
  },
  {
   "cell_type": "markdown",
   "metadata": {},
   "source": [
    "#### Locate Isolates\n",
    "\n",
    "The smallest distinct element of any network is an isolate: a node that is not\n",
    "connected to any other node (an isolate can still be connected to itself with a\n",
    "loop edge). Though isolates belong to a bigger network, their very existence is\n",
    "against the networking spirit, because the whole idea of networking is that of\n",
    "connectedness.\n",
    "\n",
    "An example of an isolate in a semantic network is a word that\n",
    "has no synonyms, no homonyms, no antonyms, and no other relationships to any\n",
    "other word (say, “sphygmomanometer” in a network of simple synonyms—\n",
    "because it has none). An example of an isolate in a product network is an item\n",
    "that nobody ever buys together with any other item. The last meal comes to\n",
    "mind, but then, again, nobody pays for the last meal, so technically it is not even\n",
    "a purchase."
   ]
  },
  {
   "cell_type": "code",
   "execution_count": 6,
   "metadata": {},
   "outputs": [],
   "source": [
    "G = nx.Graph()\n",
    "G.add_nodes_from(\"ABCD\") # No edges -- all nodes are isolates|"
   ]
  },
  {
   "cell_type": "code",
   "execution_count": 7,
   "metadata": {},
   "outputs": [
    {
     "data": {
      "image/png": "[encoded data removed]",
      "text/plain": [
       "<Figure size 432x288 with 1 Axes>"
      ]
     },
     "metadata": {},
     "output_type": "display_data"
    }
   ],
   "source": [
    "nx.draw(G)"
   ]
  },
  {
   "cell_type": "code",
   "execution_count": 8,
   "metadata": {},
   "outputs": [
    {
     "name": "stdout",
     "output_type": "stream",
     "text": [
      "['A', 'B', 'C', 'D']\n"
     ]
    }
   ],
   "source": [
    "my_isolates = list(nx.isolates(G))\n",
    "print(my_isolates)\n",
    "G.remove_nodes_from(my_isolates) # No more isolates!"
   ]
  },
  {
   "cell_type": "code",
   "execution_count": 10,
   "metadata": {},
   "outputs": [
    {
     "data": {
      "text/plain": [
       "NodeView(())"
      ]
     },
     "execution_count": 10,
     "metadata": {},
     "output_type": "execute_result"
    }
   ],
   "source": [
    "G.nodes"
   ]
  },
  {
   "cell_type": "markdown",
   "metadata": {},
   "source": [
    "#### Split Networks into Connected Components"
   ]
  },
  {
   "cell_type": "markdown",
   "metadata": {},
   "source": [
    "A connected component is a subset of network nodes such that there exists a\n",
    "path (Think in Terms of Paths) from each node in the subset to any other node in\n",
    "the same subset. An isolate is a special case of a connected component: there is\n",
    "only one node in the subset, so no path is even needed! The figure shows a\n",
    "network with three connected components: a larger component A, smaller\n",
    "component B, and isolate C. A fictitious network traveler can get from any node\n",
    "in A to any node in A, but not to any node in B."
   ]
  },
  {
   "cell_type": "markdown",
   "metadata": {},
   "source": [
    "If a network is directed, it may have weakly and strongly connected components.\n",
    "In a strongly connected component, there is always a directed path from any\n",
    "node of the component to any other node of the same component. In a weakly\n",
    "connected component, you are allowed to travel one-way streets in the wrong\n",
    "direction (drive responsibly!), if this is what it takes to get from the source to the\n",
    "destination. Both components A and B in the figure are weakly connected, but B\n",
    "is also strongly connected. (No nodes are reachable from a2!) NetworkX provides\n",
    "two families of functions for component analysis."
   ]
  },
  {
   "cell_type": "code",
   "execution_count": 11,
   "metadata": {},
   "outputs": [],
   "source": [
    "F = nx.DiGraph()\n",
    "F.add_node(\"C\")\n",
    "F.add_edges_from([(\"B\", \"b0\"), (\"b0\", \"b1\"), (\"b1\", \"B\")])\n",
    "F.add_edges_from([(\"A\", \"a0\"), (\"a0\", \"a1\"), (\"a1\", \"a2\"), (\"a1\", \"a3\"),(\"a3\", \"A\")])"
   ]
  },
  {
   "cell_type": "code",
   "execution_count": 12,
   "metadata": {},
   "outputs": [
    {
     "data": {
      "text/plain": [
       "[{'C'}, {'B', 'b0', 'b1'}, {'A', 'a0', 'a1', 'a2', 'a3'}]"
      ]
     },
     "execution_count": 12,
     "metadata": {},
     "output_type": "execute_result"
    }
   ],
   "source": [
    "list(nx.weakly_connected_components(F))"
   ]
  },
  {
   "cell_type": "code",
   "execution_count": 14,
   "metadata": {},
   "outputs": [
    {
     "data": {
      "text/plain": [
       "[{'C'}, {'B', 'b0', 'b1'}, {'a2'}, {'A', 'a0', 'a1', 'a3'}]"
      ]
     },
     "execution_count": 14,
     "metadata": {},
     "output_type": "execute_result"
    }
   ],
   "source": [
    "list(nx.strongly_connected_components(F))"
   ]
  },
  {
   "cell_type": "markdown",
   "metadata": {},
   "source": [
    "Note how we convert the directed graph F into an undirected graph G in the last\n",
    "expression. The connected components of the converted graphs are the same as\n",
    "the weakly connected components of the original graph."
   ]
  },
  {
   "cell_type": "code",
   "execution_count": 15,
   "metadata": {},
   "outputs": [
    {
     "data": {
      "text/plain": [
       "[{'C'}, {'B', 'b0', 'b1'}, {'A', 'a0', 'a1', 'a2', 'a3'}]"
      ]
     },
     "execution_count": 15,
     "metadata": {},
     "output_type": "execute_result"
    }
   ],
   "source": [
    "G = nx.Graph(F)\n",
    "list(nx.connected_components(G))"
   ]
  },
  {
   "cell_type": "markdown",
   "metadata": {},
   "source": [
    "You can use the\n",
    "obtained node sets to extract the respective subgraphs from the original graph:"
   ]
  },
  {
   "cell_type": "code",
   "execution_count": 16,
   "metadata": {},
   "outputs": [
    {
     "data": {
      "text/plain": [
       "3"
      ]
     },
     "execution_count": 16,
     "metadata": {},
     "output_type": "execute_result"
    }
   ],
   "source": [
    "wcc = nx.subgraph(F, list(nx.weakly_connected_components(F))[1])\n",
    "len(wcc)"
   ]
  },
  {
   "cell_type": "markdown",
   "metadata": {},
   "source": [
    "One of the components in a complex network often dominates the others: not so\n",
    "much because it is strong, but because it is giant. The giant connected\n",
    "component (GCC) is simply the largest component by the node count. NetworkX\n",
    "does not provide a function for extracting the GCC, but you can still find it by\n",
    "calling one of the functions mentioned previously, reverse sorting the generated\n",
    "list by size, and taking the first element:"
   ]
  },
  {
   "cell_type": "code",
   "execution_count": 17,
   "metadata": {},
   "outputs": [],
   "source": [
    "comp_gen = nx.connected_components(G)\n",
    "gcc = sorted(comp_gen, key=len, reverse=True)[0]"
   ]
  },
  {
   "cell_type": "markdown",
   "metadata": {},
   "source": [
    "#### Separate Cores, Shells, Coronas, and Crusts\n",
    "\n",
    "The only valuable property of a connected component is its connectedness.\n",
    "There is always a way to get from any node A in a component to any other node\n",
    "B in the same component. The property of connectedness is global and, while\n",
    "important for social and communication networks (where paths are responsible\n",
    "for information diffusion), may not be adequate for semantic, product, and other\n",
    "types of networks, where direct or short-haul connections are more essential.\n",
    "Consider a network of synonyms: “emerald” is a synonym of “green,” and\n",
    "“green” is a synonym of “ecological,” but “ecological” is hardly a synonym of\n",
    "“emerald.”"
   ]
  },
  {
   "cell_type": "markdown",
   "metadata": {},
   "source": [
    "One of the fundamental tools in modern sociology is core-peripheral analysis. A\n",
    "social network, thereby, consists of two sets of nodes: the core (the nodes that\n",
    "are more or less tightly interconnected) and the periphery (the nodes that are\n",
    "tightly connected to the core, but only weakly, if at all, connected to the other\n",
    "peripheral nodes). The graphs of core-peripheral networks often have a “hairy”\n",
    "appearance: their dense “body” is adorned with “pendulums,” multi-edge selfloops,\n",
    "and so on."
   ]
  },
  {
   "cell_type": "markdown",
   "metadata": {},
   "source": [
    "A core or, more accurately, a k-core (where k could be any non-negative integer\n",
    "number) is a subgraph of the original network graph such that each node in the\n",
    "subgraph has at least k neighbors. A 0-core is, naturally, the whole graph. A 1-\n",
    "core is a graph with no isolates. A 2-core is a graph where no node has fewer\n",
    "than two neighbors (no node is a part of a pendulum). Any graph usually has\n",
    "more than one core; the core with the largest possible k is called the main core. A\n",
    "k-core construction process is iterative:\n",
    "\n",
    "1. Start with the original graph and remove all nodes that have a degree\n",
    "smaller than k and all the incident edges; this will probably result in some\n",
    "of the remaining nodes losing their neighbors and their degree decreasing.\n",
    "2. Some nodes that have k neighbors or more may have fewer than k neighbors\n",
    "after trimming; remove them, too, and iterate until no remaining node has\n",
    "fewer than k neighbors.\n",
    "3. The remaining nodes form the k-core.\n",
    "\n",
    "A k-crust is what is left of the original network when we remove the k-core. In\n",
    "other words, the crust is the periphery."
   ]
  },
  {
   "cell_type": "markdown",
   "metadata": {},
   "source": [
    "A core has its internal structure. The subgraph of the k-core in which all nodes\n",
    "have exactly k neighbors in the core is called a k-corona. Unlike crusts, coronas\n",
    "are not necessarily connected and may consist of unconnected components—that\n",
    "is, unconnected within the corona.\n",
    "Finally, a subset of nodes in k-core but not in (k+1)-core, is called a k-shell. Just\n",
    "like a corona, a shell may consist of components that are not connected within\n",
    "the shell. Let’s experiment with the graph from the following figure."
   ]
  },
  {
   "cell_type": "code",
   "execution_count": 19,
   "metadata": {},
   "outputs": [],
   "source": [
    "G = nx.Graph(\n",
    "((\"Alpha\", \"Bravo\"), (\"Bravo\", \"Charlie\"), (\"Charlie\", \"Delta\"),\n",
    "(\"Charlie\", \"Echo\"), (\"Charlie\", \"Foxtrot\"), (\"Delta\", \"Echo\"),\n",
    "(\"Delta\", \"Foxtrot\"), (\"Echo\", \"Foxtrot\"), (\"Echo\", \"Golf\"),\n",
    "(\"Echo\", \"Hotel\"), (\"Foxtrot\", \"Golf\"), (\"Foxtrot\", \"Hotel\"),\n",
    "(\"Delta\", \"Hotel\"), (\"Golf\", \"Hotel\"), (\"Delta\", \"India\"),\n",
    "(\"Charlie\", \"India\"), (\"India\", \"Juliet\"), (\"Golf\", \"Kilo\"),\n",
    "(\"Alpha\", \"Kilo\"), (\"Bravo\", \"Lima\")))"
   ]
  },
  {
   "cell_type": "code",
   "execution_count": 20,
   "metadata": {},
   "outputs": [
    {
     "data": {
      "text/plain": [
       "NodeView(('Charlie', 'Delta', 'Echo', 'Foxtrot', 'Golf', 'Hotel'))"
      ]
     },
     "execution_count": 20,
     "metadata": {},
     "output_type": "execute_result"
    }
   ],
   "source": [
    "nx.k_core(G).nodes() # Round and square nodes and shaded edges"
   ]
  },
  {
   "cell_type": "code",
   "execution_count": 21,
   "metadata": {},
   "outputs": [
    {
     "data": {
      "text/plain": [
       "NodeView(('Alpha', 'Bravo', 'India', 'Juliet', 'Kilo', 'Lima'))"
      ]
     },
     "execution_count": 21,
     "metadata": {},
     "output_type": "execute_result"
    }
   ],
   "source": [
    "nx.k_crust(G).nodes() # Triangular nodes and shaded edges"
   ]
  },
  {
   "cell_type": "code",
   "execution_count": 22,
   "metadata": {},
   "outputs": [
    {
     "data": {
      "text/plain": [
       "NodeView(('Charlie', 'Delta', 'Echo', 'Foxtrot', 'Golf', 'Hotel'))"
      ]
     },
     "execution_count": 22,
     "metadata": {},
     "output_type": "execute_result"
    }
   ],
   "source": [
    "nx.k_shell(G).nodes() # Round and square nodes and shaded edges"
   ]
  },
  {
   "cell_type": "code",
   "execution_count": 23,
   "metadata": {},
   "outputs": [
    {
     "data": {
      "text/plain": [
       "NodeView(('Golf', 'Charlie'))"
      ]
     },
     "execution_count": 23,
     "metadata": {},
     "output_type": "execute_result"
    }
   ],
   "source": [
    "nx.k_corona(G, k=3).nodes() # Square nodes"
   ]
  },
  {
   "cell_type": "markdown",
   "metadata": {},
   "source": [
    "#### Extract Cliques\n",
    "\n",
    "Unlike the smaller components, the GCC and the k-cores are usually too large to\n",
    "be considered a single structural element. Depending on your interpretation of\n",
    "the nodes and edges, you should zoom in even further in a search for smaller\n",
    "network building blocks, such as cliques.\n",
    "\n",
    "A clique, or, more accurately, a k-clique is a subset of k nodes such that each\n",
    "node is directly connected to each other node in the clique. (We distinguish weak\n",
    "and strong cliques in directed graphs.) Cliques are also known as complete\n",
    "subgraphs. The nodes in a clique may be connected to other nodes as well, but\n",
    "they do not have to—that is, the degree of a node in a k-clique is at least k-1. The\n",
    "principal difference between cliques and connected components is that the path\n",
    "between any two nodes in a clique must have the length of 1, while in a\n",
    "component, the path length is limited only by the graph diameter (Think in\n",
    "Terms of Paths)."
   ]
  },
  {
   "cell_type": "markdown",
   "metadata": {},
   "source": [
    "Any single node is a 1-clique, a monad. Any two connected nodes form a 2-\n",
    "clique, a dyad. A triangle of nodes—the result of transitive closure—is a 3-\n",
    "clique, a triad (Explore Neighborhoods). Monads, dyads, and triads are very\n",
    "common in complex networks."
   ]
  },
  {
   "cell_type": "markdown",
   "metadata": {},
   "source": [
    "A maximal clique is a k-clique that cannot be made a (k+1)-clique by adding\n",
    "another node to it. For example, clique (Alpha, Bravo, ..., Echo) in the following\n",
    "figure is a maximal clique, because including any other node (Foxtrot, Golf, or\n",
    "Hotel) into it invalidates the complete connectedness property. For example, if\n",
    "Foxtrot is included, then (Alpha, Bravo, ..., Foxtrot) is not a clique anymore. The\n",
    "largest maximal clique in a network graph is called the maximum clique."
   ]
  },
  {
   "cell_type": "code",
   "execution_count": 24,
   "metadata": {},
   "outputs": [],
   "source": [
    "# Generate a 5-clique\n",
    "G = nx.complete_graph(5, nx.Graph())\n",
    "nx.relabel_nodes(G,\n",
    "dict(enumerate((\"Alpha\", \"Bravo\", \"Charlie\", \"Delta\", \"Echo\"))),\n",
    "copy=False)\n",
    "# Attach a pigtail to it\n",
    "G.add_edges_from([\n",
    "(\"Echo\", \"Foxtrot\"), (\"Foxtrot\", \"Golf\"), (\"Foxtrot\", \"Hotel\"),\n",
    "(\"Golf\", \"Hotel\")])"
   ]
  },
  {
   "cell_type": "code",
   "execution_count": 26,
   "metadata": {},
   "outputs": [
    {
     "data": {
      "image/png": "[encoded data removed]",
      "text/plain": [
       "<Figure size 432x288 with 1 Axes>"
      ]
     },
     "metadata": {},
     "output_type": "display_data"
    }
   ],
   "source": [
    "nx.draw(G,with_labels = True)"
   ]
  },
  {
   "cell_type": "markdown",
   "metadata": {},
   "source": [
    "NetworkX provides function nx.find_cliques for finding all maximal cliques in a\n",
    "graph (the largest of which is the maximum clique)."
   ]
  },
  {
   "cell_type": "code",
   "execution_count": 27,
   "metadata": {},
   "outputs": [
    {
     "data": {
      "text/plain": [
       "[['Golf', 'Foxtrot', 'Hotel'],\n",
       " ['Echo', 'Charlie', 'Alpha', 'Delta', 'Bravo'],\n",
       " ['Echo', 'Foxtrot']]"
      ]
     },
     "execution_count": 27,
     "metadata": {},
     "output_type": "execute_result"
    }
   ],
   "source": [
    "list(nx.find_cliques(G))"
   ]
  },
  {
   "cell_type": "markdown",
   "metadata": {},
   "source": [
    "You have at least two good reasons to search a network for k-cliques: a\n",
    "theoretical and an empirical one. In the theoretical case, you may already have\n",
    "some prior knowledge about the network structure.\n",
    "\n",
    "For example, a marketing\n",
    "specialist may define a project basket in a product network as a collection of\n",
    "products such that they are always purchased together (and, therefore, form a\n",
    "clique when represented as a network). Recognizing k-cliques in a product\n",
    "network almost instantly leads you to the discovery of project baskets. Closely\n",
    "cooperating teams in social and organizational networks are k-cliques, and such\n",
    "are collections of complete synonyms in semantics networks."
   ]
  },
  {
   "cell_type": "markdown",
   "metadata": {},
   "source": [
    "In the empirical case, you use cliques as opaque network atoms. If you assume\n",
    "that an edge between two nodes is an indication of their significant similarity,\n",
    "then a complete connectedness within a clique implies overall significant\n",
    "similarity of the member nodes. Thus, you can replace all k nodes with one node\n",
    "that represents the entire clique, or with a newly minted “clique-node,”\n",
    "potentially significantly simplifying the network topology. Function\n",
    "nx.make_max_clique_graph generates a new graph by replacing each maximal\n",
    "clique with a new synthetic node:"
   ]
  },
  {
   "cell_type": "code",
   "execution_count": 28,
   "metadata": {},
   "outputs": [
    {
     "data": {
      "text/plain": [
       "EdgeView([(0, 2), (1, 2)])"
      ]
     },
     "execution_count": 28,
     "metadata": {},
     "output_type": "execute_result"
    }
   ],
   "source": [
    "synthetic = nx.make_max_clique_graph(G)\n",
    "synthetic.edges()"
   ]
  },
  {
   "cell_type": "markdown",
   "metadata": {},
   "source": [
    "#### Recognize Clique Communities\n",
    "By definition, a clique is a very rigid and sensitive network structure. Removing\n",
    "an edge from a k-clique transforms it into two interwound, partially overlapping,\n",
    "adjacent (k-1)-cliques.\n",
    "\n",
    "In the figure, subgraphs Alpha--Delta and Alpha--Charlie,\n",
    "Echo are 4-cliques each, but the whole network is not a 5-clique, because the\n",
    "edge Delta--Echo is missing"
   ]
  },
  {
   "cell_type": "code",
   "execution_count": 30,
   "metadata": {},
   "outputs": [
    {
     "data": {
      "image/png": "[encoded data removed]",
      "text/plain": [
       "<Figure size 432x288 with 1 Axes>"
      ]
     },
     "metadata": {},
     "output_type": "display_data"
    }
   ],
   "source": [
    "nx.draw(G,with_labels=True)"
   ]
  },
  {
   "cell_type": "markdown",
   "metadata": {},
   "source": [
    "NetworkX supports k-clique communities. A k-clique community is a\n",
    "union of all k-cliques that can be reached through adjacent k-cliques.\n",
    "The\n",
    "process of reaching all cliques in the union is called clique"
   ]
  },
  {
   "cell_type": "markdown",
   "metadata": {},
   "source": [
    "if the relationship represented by the edges is only approximately\n",
    "transient (if A is adjacent to B, and B is adjacent to C, then A is not necessarily\n",
    "adjacent to C—as it would be in the case of personal friendship), then two nodes\n",
    "separated by a multi-edge path may actually have little or nothing shared, and\n",
    "their membership in the same clique community would be questionable.\n",
    "\n",
    "Only you can determine whether clique communities are appropriate for your\n",
    "network. But once you do, here’s the function for doing the dirty job:"
   ]
  },
  {
   "cell_type": "code",
   "execution_count": 33,
   "metadata": {},
   "outputs": [],
   "source": [
    "from networkx.algorithms.community import k_clique_communities"
   ]
  },
  {
   "cell_type": "code",
   "execution_count": 34,
   "metadata": {},
   "outputs": [
    {
     "data": {
      "text/plain": [
       "[frozenset({'Foxtrot', 'Golf', 'Hotel'}),\n",
       " frozenset({'Alpha', 'Bravo', 'Charlie', 'Delta', 'Echo'})]"
      ]
     },
     "execution_count": 34,
     "metadata": {},
     "output_type": "execute_result"
    }
   ],
   "source": [
    "list(k_clique_communities(G, k=3))"
   ]
  },
  {
   "cell_type": "markdown",
   "metadata": {},
   "source": [
    "#### Outline Modularity-Based Communities\n",
    "\n",
    "The fuzziest and most flexible form of node organization in\n",
    "a complex network is network communities based on\n",
    "modularity. They are sometimes also called clusters or\n",
    "groups, and are not to be confused with clique communities"
   ]
  },
  {
   "cell_type": "code",
   "execution_count": null,
   "metadata": {},
   "outputs": [],
   "source": []
  }
 ],
 "metadata": {
  "kernelspec": {
   "display_name": "Python 3.7.10 ('graph_env')",
   "language": "python",
   "name": "python3"
  },
  "language_info": {
   "codemirror_mode": {
    "name": "ipython",
    "version": 3
   },
   "file_extension": ".py",
   "mimetype": "text/x-python",
   "name": "python",
   "nbconvert_exporter": "python",
   "pygments_lexer": "ipython3",
   "version": "3.7.10"
  },
  "orig_nbformat": 4,
  "vscode": {
   "interpreter": {
    "hash": "3c8e4c60fd624a8a75c789083efacee9750f13d579e0a03c8fcc3a5a9a7fbc1d"
   }
  }
 },
 "nbformat": 4,
 "nbformat_minor": 2
}
